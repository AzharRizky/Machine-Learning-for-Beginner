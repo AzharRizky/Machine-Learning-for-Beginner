{
 "cells": [
  {
   "cell_type": "code",
   "execution_count": 1,
   "metadata": {
    "id": "cmEnsk0QFerj"
   },
   "outputs": [],
   "source": [
    "import pandas as pd\n",
    "\n",
    "# membaca dataset dan mengubahnya menjadi dataframe\n",
    "data = pd.read_csv('Salary_Data.csv')"
   ]
  },
  {
   "cell_type": "code",
   "execution_count": 2,
   "metadata": {
    "colab": {
     "base_uri": "https://localhost:8080/",
     "height": 175
    },
    "executionInfo": {
     "elapsed": 896,
     "status": "ok",
     "timestamp": 1602829644458,
     "user": {
      "displayName": "Tia Dwi Setiani",
      "photoUrl": "https://lh3.googleusercontent.com/a-/AOh14Gg-F8-IpvCKLAA5ZfpTQguaDnHvVMsFXOvH1IEsmA=s64",
      "userId": "02190462606010737246"
     },
     "user_tz": -420
    },
    "id": "MLMfgEsAFqKU",
    "outputId": "55eb51b6-872c-4e23-904f-e6a8de06bfbe"
   },
   "outputs": [
    {
     "name": "stdout",
     "output_type": "stream",
     "text": [
      "<class 'pandas.core.frame.DataFrame'>\n",
      "RangeIndex: 30 entries, 0 to 29\n",
      "Data columns (total 2 columns):\n",
      " #   Column           Non-Null Count  Dtype  \n",
      "---  ------           --------------  -----  \n",
      " 0   YearsExperience  30 non-null     float64\n",
      " 1   Salary           30 non-null     float64\n",
      "dtypes: float64(2)\n",
      "memory usage: 608.0 bytes\n"
     ]
    }
   ],
   "source": [
    "data.info()"
   ]
  },
  {
   "cell_type": "code",
   "execution_count": 3,
   "metadata": {
    "colab": {
     "base_uri": "https://localhost:8080/",
     "height": 195
    },
    "executionInfo": {
     "elapsed": 1456,
     "status": "ok",
     "timestamp": 1602829651618,
     "user": {
      "displayName": "Tia Dwi Setiani",
      "photoUrl": "https://lh3.googleusercontent.com/a-/AOh14Gg-F8-IpvCKLAA5ZfpTQguaDnHvVMsFXOvH1IEsmA=s64",
      "userId": "02190462606010737246"
     },
     "user_tz": -420
    },
    "id": "lMLF8MXiFqu5",
    "outputId": "aaf82493-7641-4206-e169-326e762c779e"
   },
   "outputs": [
    {
     "data": {
      "text/html": [
       "<div>\n",
       "<style scoped>\n",
       "    .dataframe tbody tr th:only-of-type {\n",
       "        vertical-align: middle;\n",
       "    }\n",
       "\n",
       "    .dataframe tbody tr th {\n",
       "        vertical-align: top;\n",
       "    }\n",
       "\n",
       "    .dataframe thead th {\n",
       "        text-align: right;\n",
       "    }\n",
       "</style>\n",
       "<table border=\"1\" class=\"dataframe\">\n",
       "  <thead>\n",
       "    <tr style=\"text-align: right;\">\n",
       "      <th></th>\n",
       "      <th>YearsExperience</th>\n",
       "      <th>Salary</th>\n",
       "    </tr>\n",
       "  </thead>\n",
       "  <tbody>\n",
       "    <tr>\n",
       "      <th>0</th>\n",
       "      <td>1.1</td>\n",
       "      <td>39343.0</td>\n",
       "    </tr>\n",
       "    <tr>\n",
       "      <th>1</th>\n",
       "      <td>1.3</td>\n",
       "      <td>46205.0</td>\n",
       "    </tr>\n",
       "    <tr>\n",
       "      <th>2</th>\n",
       "      <td>1.5</td>\n",
       "      <td>37731.0</td>\n",
       "    </tr>\n",
       "    <tr>\n",
       "      <th>3</th>\n",
       "      <td>2.0</td>\n",
       "      <td>43525.0</td>\n",
       "    </tr>\n",
       "    <tr>\n",
       "      <th>4</th>\n",
       "      <td>2.2</td>\n",
       "      <td>39891.0</td>\n",
       "    </tr>\n",
       "  </tbody>\n",
       "</table>\n",
       "</div>"
      ],
      "text/plain": [
       "   YearsExperience   Salary\n",
       "0              1.1  39343.0\n",
       "1              1.3  46205.0\n",
       "2              1.5  37731.0\n",
       "3              2.0  43525.0\n",
       "4              2.2  39891.0"
      ]
     },
     "execution_count": 3,
     "metadata": {},
     "output_type": "execute_result"
    }
   ],
   "source": [
    "data.head()"
   ]
  },
  {
   "cell_type": "code",
   "execution_count": 4,
   "metadata": {
    "colab": {
     "base_uri": "https://localhost:8080/",
     "height": 72
    },
    "executionInfo": {
     "elapsed": 1131,
     "status": "ok",
     "timestamp": 1602829681195,
     "user": {
      "displayName": "Tia Dwi Setiani",
      "photoUrl": "https://lh3.googleusercontent.com/a-/AOh14Gg-F8-IpvCKLAA5ZfpTQguaDnHvVMsFXOvH1IEsmA=s64",
      "userId": "02190462606010737246"
     },
     "user_tz": -420
    },
    "id": "d2moqHXHFsKK",
    "outputId": "ddf7a0f0-084e-43e0-f33f-40b7f8eff625"
   },
   "outputs": [
    {
     "name": "stderr",
     "output_type": "stream",
     "text": [
      "C:\\Users\\AZHARR~1\\AppData\\Local\\Temp/ipykernel_4392/3663637664.py:8: FutureWarning: Support for multi-dimensional indexing (e.g. `obj[:, None]`) is deprecated and will be removed in a future version.  Convert to a numpy array before indexing instead.\n",
      "  X = X[:,np.newaxis]\n"
     ]
    }
   ],
   "source": [
    "import numpy as np\n",
    "\n",
    "# memisahkan atribut dan label\n",
    "X = data['YearsExperience']\n",
    "y = data['Salary']\n",
    "\n",
    "# mengubah bentuk atribut\n",
    "X = X[:,np.newaxis]"
   ]
  },
  {
   "cell_type": "code",
   "execution_count": 5,
   "metadata": {
    "id": "R9iA3kwfFtpk"
   },
   "outputs": [
    {
     "data": {
      "text/plain": [
       "SVR(C=1000, gamma=0.05)"
      ]
     },
     "execution_count": 5,
     "metadata": {},
     "output_type": "execute_result"
    }
   ],
   "source": [
    "from sklearn.svm import SVR\n",
    "\n",
    "# membangun model dengan parameter C, gamma, dan kernel\n",
    "model  = SVR(C=1000, gamma=0.05, kernel='rbf')\n",
    "\n",
    "# melatih model dengan fungsi fit\n",
    "model.fit(X,y)"
   ]
  },
  {
   "cell_type": "code",
   "execution_count": 6,
   "metadata": {
    "colab": {
     "base_uri": "https://localhost:8080/",
     "height": 282
    },
    "executionInfo": {
     "elapsed": 1268,
     "status": "ok",
     "timestamp": 1602829687412,
     "user": {
      "displayName": "Tia Dwi Setiani",
      "photoUrl": "https://lh3.googleusercontent.com/a-/AOh14Gg-F8-IpvCKLAA5ZfpTQguaDnHvVMsFXOvH1IEsmA=s64",
      "userId": "02190462606010737246"
     },
     "user_tz": -420
    },
    "id": "92lVcMXZFwu4",
    "outputId": "4cc27efe-de46-457d-d62b-7b00f649bd29"
   },
   "outputs": [
    {
     "data": {
      "text/plain": [
       "[<matplotlib.lines.Line2D at 0x18c0b1d4610>]"
      ]
     },
     "execution_count": 6,
     "metadata": {},
     "output_type": "execute_result"
    },
    {
     "data": {
      "image/png": "[encoded data removed]",
      "text/plain": [
       "<Figure size 432x288 with 1 Axes>"
      ]
     },
     "metadata": {
      "needs_background": "light"
     },
     "output_type": "display_data"
    }
   ],
   "source": [
    "import matplotlib.pyplot as plt\n",
    "\n",
    "# memvisualisasikan model\n",
    "plt.scatter(X, y)\n",
    "plt.plot(X, model.predict(X))"
   ]
  },
  {
   "cell_type": "code",
   "execution_count": null,
   "metadata": {},
   "outputs": [],
   "source": []
  }
 ],
 "metadata": {
  "colab": {
   "authorship_tag": "ABX9TyMrVl9m0CBV4r8WQgR3cPgH",
   "collapsed_sections": [],
   "name": "Latihan10-Sklearn SVR.ipynb",
   "provenance": []
  },
  "kernelspec": {
   "display_name": "Python 3 (ipykernel)",
   "language": "python",
   "name": "python3"
  },
  "language_info": {
   "codemirror_mode": {
    "name": "ipython",
    "version": 3
   },
   "file_extension": ".py",
   "mimetype": "text/x-python",
   "name": "python",
   "nbconvert_exporter": "python",
   "pygments_lexer": "ipython3",
   "version": "3.9.7"
  }
 },
 "nbformat": 4,
 "nbformat_minor": 1
}
